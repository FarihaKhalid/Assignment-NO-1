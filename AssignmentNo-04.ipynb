{
 "cells": [
  {
   "cell_type": "code",
   "execution_count": 7,
   "metadata": {},
   "outputs": [
    {
     "name": "stdout",
     "output_type": "stream",
     "text": [
      "{'Name': 'Fariha', 'Last-Name': 'Khalid', 'City': 'Karachi'}\n",
      "{'Name': 'Fariha', 'Last-Name': 'Khalid', 'City': 'Karachi', 'Qualification': 'High level Academic'}\n",
      "{'Name': 'Fariha', 'Last-Name': 'Khalid', 'City': 'Karachi'}\n"
     ]
    }
   ],
   "source": [
    "Information = {'Name':'Fariha', 'Last-Name':'Khalid', 'City':'Karachi'}\n",
    "print(Information)\n",
    "\n",
    "#Adding Qualification key and value in Dictionary\n",
    "Information['Qualification'] = 'High level Academic' \n",
    "print(Information)\n",
    "\n",
    "#Deleting Qualification key and value in Dictionary\n",
    "del Information['Qualification']\n",
    "print(Information)"
   ]
  },
  {
   "cell_type": "code",
   "execution_count": 11,
   "metadata": {},
   "outputs": [
    {
     "name": "stdout",
     "output_type": "stream",
     "text": [
      "{'Bangkok': {'Country': 'Thailand', 'Population': '8.281 million', 'Fact': 'Famous for ornate shrines'}, 'Paris': {'Country': 'France', 'Population': '2.141 million', 'Fact': 'Global center for art and Fashion'}, 'Kuala Lumpur': {'Country': 'Malaysia', 'Population': '1.808 million', 'Fact': 'Home to British colonial-era landmarks'}}\n"
     ]
    }
   ],
   "source": [
    "Cities = {'Bangkok': {'Country': 'Thailand', 'Population':'8.281 million', 'Fact':'Famous for ornate shrines' }, 'Paris': {'Country': 'France', 'Population': '2.141 million', 'Fact':'Global center for art and Fashion' }, 'Kuala Lumpur':{'Country': 'Malaysia', 'Population': '1.808 million', 'Fact':'Home to British colonial-era landmarks'}}\n",
    "print(Cities)"
   ]
  },
  {
   "cell_type": "code",
   "execution_count": 4,
   "metadata": {},
   "outputs": [
    {
     "name": "stdout",
     "output_type": "stream",
     "text": [
      "Enter Age: 3\n",
      "The Ticket is $10\n"
     ]
    }
   ],
   "source": [
    "Age = int(input (\"Enter Age: \"))\n",
    "\n",
    "if Age < 3:\n",
    "    print(\"Ticket is free for you\")\n",
    "elif Age >= 3 or Age < 12:\n",
    "    print(\"The Ticket is $10\")\n",
    "else:\n",
    "    print(\"The Ticket is $15\")\n",
    " \n",
    " "
   ]
  },
  {
   "cell_type": "code",
   "execution_count": 7,
   "metadata": {},
   "outputs": [
    {
     "name": "stdout",
     "output_type": "stream",
     "text": [
      "Enter title of Book: A long walk to freedom\n",
      "A long walk to freedom  is my favorite book.\n"
     ]
    }
   ],
   "source": [
    "def favorite_book(title):\n",
    "    print(title, \" is my favorite book.\")\n",
    "    return\n",
    "\n",
    "title1 = input(\"Enter title of Book: \")\n",
    "favorite_book(title1)\n",
    "\n"
   ]
  },
  {
   "cell_type": "code",
   "execution_count": 2,
   "metadata": {},
   "outputs": [
    {
     "name": "stdout",
     "output_type": "stream",
     "text": [
      "let's start\n",
      "4\n",
      "chance 1\n",
      "Enter the number7\n",
      "Entered number is bigger then random number\n",
      "chance 2\n",
      "Enter the number9\n",
      "Entered number is bigger then random number\n",
      "chance 3\n",
      "Enter the number7\n",
      "Entered number is bigger then random number\n"
     ]
    }
   ],
   "source": [
    "import random\n",
    "value=random.randint(0,30)\n",
    "print(\"let's start\")\n",
    "print(value)\n",
    "for i in range(0,3):\n",
    "    print(\"chance \"+ str(i+1))\n",
    "    number=int(input(\"Enter the number\"))\n",
    "    if number <value:\n",
    "        print(\"Entered number is less then random number\")\n",
    "    elif number > value:\n",
    "        print(\"Entered number is bigger then random number\")\n",
    "    elif number==value:\n",
    "        print(\"You have guessed the number\")\n",
    "        break\n",
    "    else:\n",
    "        print(\"Better luck next time\")"
   ]
  },
  {
   "cell_type": "code",
   "execution_count": null,
   "metadata": {},
   "outputs": [],
   "source": []
  },
  {
   "cell_type": "code",
   "execution_count": null,
   "metadata": {},
   "outputs": [],
   "source": []
  }
 ],
 "metadata": {
  "kernelspec": {
   "display_name": "Python 3",
   "language": "python",
   "name": "python3"
  },
  "language_info": {
   "codemirror_mode": {
    "name": "ipython",
    "version": 3
   },
   "file_extension": ".py",
   "mimetype": "text/x-python",
   "name": "python",
   "nbconvert_exporter": "python",
   "pygments_lexer": "ipython3",
   "version": "3.6.8"
  }
 },
 "nbformat": 4,
 "nbformat_minor": 2
}
