{
 "cells": [
  {
   "cell_type": "markdown",
   "metadata": {},
   "source": [
    "# Object Oriented Programming Language:\n",
    "    \n",
    "Object-oriented Programming language is a high-level computer programming language that implements objects and their associated procedures within the programming context to create software programs.\n",
    "\n",
    "Object-oriented language uses an object-oriented programming technique that binds related data and functions into an object and encourages reuse of these objects within the same and other programs.\n",
    "\n",
    "Object-oriented language was primarily designed to reduce complexity in typical procedural languages through data binding and encapsulation techniques."
   ]
  },
  {
   "cell_type": "markdown",
   "metadata": {},
   "source": [
    "# Advantages of OOP:\n",
    "\n",
    "Objects can also be reused within an across applications. The reuse of software also lowers the cost of development. More effort is put into the object-oriented analysis and design, which lowers the overall cost of development.\n",
    "\n",
    "It makes software easier to maintain. Since the design is modular, part of the system can be updated in case of issues without a need to make large-scale changes.\n",
    "\n",
    "Reuse also enables faster development. Object-oriented programming languages come with rich libraries of objects, and code developed during projects is also reusable in future projects.\n",
    "\n",
    "It provides a good framework for code libraries where the supplied software components can be easily adapted and modified by the programmer. This is particularly useful for developing graphical user interfaces.\n",
    "\n",
    "Better Productivity as OOP techniques enforce rules on a programmer that, in the long run, help her get more work done; finished programs work better, have more features and are easier to read and maintain. OOP programmers take new and existing software objects and \"stitch\" them together to make new programs. Because object libraries contain many useful functions, software developers don't have to reinvent the wheel as often; more of their time goes into making the new program."
   ]
  },
  {
   "cell_type": "markdown",
   "metadata": {},
   "source": [
    "# Difference Between Method and Function\n",
    "\n",
    "A function is a block of code to carry out a specific task, will contain its own scope and is called by name. All functions may contain zero(no) arguments or more than one arguments. On exit, a function can or can not return one or more values.\n",
    "\n",
    "A method in python is somewhat similar to a function, except it is associated with object/classes. Methods in python are very similar to functions except for two major differences.\n",
    "\n",
    "\n",
    "\n"
   ]
  },
  {
   "cell_type": "markdown",
   "metadata": {},
   "source": [
    "# Class\n",
    "\n",
    "In object-oriented programming, a class is a blueprint for creating objects (a particular data structure), providing initial values for state (member variables or attributes), and implementations of behavior (member functions or methods).\n",
    "\n",
    "# Objects\n",
    "\n",
    "Objects are the things you think about first in designing a program and they are also the units of code that are eventually derived from the process. In between, each object is made into a generic class of object and even more generic classes are defined so that objects can share models and reuse the class definitions in their code. Each object is an instance of a particular class or subclass with the class's own methods or procedures and data variables. \n",
    "\n",
    "# Attributes\n",
    "\n",
    "Attributes are the individual things that differentiate one object from another and determine the appearance, state, or other qualities of that object.\n",
    "\n",
    "# Behavior\n",
    "\n",
    "A class's behavior determines how an instance of that class operates. Behavior is the only way objects can do anything to themselves or have anything done to them."
   ]
  },
  {
   "cell_type": "code",
   "execution_count": 14,
   "metadata": {},
   "outputs": [
    {
     "name": "stdout",
     "output_type": "stream",
     "text": [
      "Car Name Honda\n",
      "Color of Car Black\n",
      "Speed of Car 500\n",
      "Year of Car 2013\n",
      "Branch of Car KOrangi\n",
      "Honda\n",
      "Honda\n",
      "500\n",
      "2013\n",
      "KOrangi\n",
      "Honda\n",
      "Honda\n",
      "500\n",
      "2013\n",
      "KOrangi\n",
      "Honda\n",
      "Honda\n",
      "500\n",
      "2013\n",
      "KOrangi\n",
      "Honda\n",
      "Honda\n",
      "500\n",
      "2013\n",
      "KOrangi\n",
      "Honda\n",
      "Honda\n",
      "500\n",
      "2013\n",
      "KOrangi\n"
     ]
    }
   ],
   "source": [
    "class Car:\n",
    "    CarName = input(\"Car Name \")\n",
    "    Color = input(\"Color of Car \")\n",
    "    speed = input(\"Speed of Car \")\n",
    "    Year = input(\"Year of Car \")\n",
    "    Branch = input(\"Branch of Car \")\n",
    "    \n",
    "    @staticmethod\n",
    "    def displayCarName():\n",
    "        print(Car.CarName)\n",
    "    \n",
    "    @staticmethod\n",
    "    def displayColor():\n",
    "        print(Car.CarName)\n",
    "    \n",
    "    @staticmethod\n",
    "    def displayspeed():\n",
    "        print(Car.speed)\n",
    "    \n",
    "    @staticmethod\n",
    "    def displayYear():\n",
    "        print(Car.Year)\n",
    "    \n",
    "    @staticmethod\n",
    "    def displayBranch():\n",
    "        print(Car.Branch)\n",
    "        \n",
    "\n",
    "Car1 = Car();\n",
    "Car1.displayCarName();\n",
    "Car1.displayColor();\n",
    "Car1.displayspeed();\n",
    "Car1.displayYear();\n",
    "Car1.displayBranch();\n",
    "\n",
    "Car2 = Car();\n",
    "Car2.displayCarName();\n",
    "Car2.displayColor();\n",
    "Car2.displayspeed();\n",
    "Car2.displayYear();\n",
    "Car2.displayBranch();\n",
    "\n",
    "\n",
    "Car3 = Car();\n",
    "Car3.displayCarName();\n",
    "Car3.displayColor();\n",
    "Car3.displayspeed();\n",
    "Car3.displayYear();\n",
    "Car3.displayBranch();\n",
    "\n",
    "Car4 = Car();\n",
    "Car4.displayCarName();\n",
    "Car4.displayColor();\n",
    "Car4.displayspeed();\n",
    "Car4.displayYear();\n",
    "Car4.displayBranch();\n",
    "\n",
    "Car5 = Car();\n",
    "Car5.displayCarName();\n",
    "Car5.displayColor();\n",
    "Car5.displayspeed();\n",
    "Car5.displayYear();\n",
    "Car5.displayBranch();\n",
    "    \n"
   ]
  },
  {
   "cell_type": "code",
   "execution_count": null,
   "metadata": {},
   "outputs": [],
   "source": []
  }
 ],
 "metadata": {
  "kernelspec": {
   "display_name": "Python 3",
   "language": "python",
   "name": "python3"
  },
  "language_info": {
   "codemirror_mode": {
    "name": "ipython",
    "version": 3
   },
   "file_extension": ".py",
   "mimetype": "text/x-python",
   "name": "python",
   "nbconvert_exporter": "python",
   "pygments_lexer": "ipython3",
   "version": "3.6.9"
  }
 },
 "nbformat": 4,
 "nbformat_minor": 2
}
