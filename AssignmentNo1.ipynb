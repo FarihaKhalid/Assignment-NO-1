{
 "cells": [
  {
   "cell_type": "code",
   "execution_count": 1,
   "metadata": {},
   "outputs": [
    {
     "name": "stdout",
     "output_type": "stream",
     "text": [
      "Twinkle, twinkle, little star,\n",
      "\t How I wonder what you are!\n",
      "\t \t Up above the world so high,\n",
      "\t \t Like a diamond in the sky.\n",
      "Twinkle, twinkle, little star,\n",
      "\t How I wonder what you are!\n"
     ]
    }
   ],
   "source": [
    "print(\"Twinkle, twinkle, little star,\")\n",
    "print(\"\\t How I wonder what you are!\")\n",
    "print(\"\\t \\t Up above the world so high,\")\n",
    "print(\"\\t \\t Like a diamond in the sky.\")\n",
    "print(\"Twinkle, twinkle, little star,\")\n",
    "print(\"\\t How I wonder what you are!\")"
   ]
  },
  {
   "cell_type": "code",
   "execution_count": 2,
   "metadata": {},
   "outputs": [
    {
     "name": "stdout",
     "output_type": "stream",
     "text": [
      "3.6.8 (default, Oct  7 2019, 12:59:55) \n",
      "[GCC 8.3.0]\n"
     ]
    }
   ],
   "source": [
    "import platform\n",
    "print(platform.sys.version)"
   ]
  },
  {
   "cell_type": "code",
   "execution_count": 3,
   "metadata": {},
   "outputs": [
    {
     "name": "stdout",
     "output_type": "stream",
     "text": [
      "Date is 05-11-2019 and Time is 14:36:23\n"
     ]
    }
   ],
   "source": [
    "import datetime\n",
    "Current = datetime.datetime.now()\n",
    "\n",
    "print (Current.strftime(\"Date is \" \"%d-%m-%Y \" \"and Time is\" \" %H:%M:%S\"))\n"
   ]
  },
  {
   "cell_type": "code",
   "execution_count": 4,
   "metadata": {},
   "outputs": [
    {
     "name": "stdout",
     "output_type": "stream",
     "text": [
      "Please enter value of radius of a circle: \n",
      "50\n",
      "Circle of radius is:  7853.974999999999\n"
     ]
    }
   ],
   "source": [
    "print(\"Please enter value of radius of a circle: \" )\n",
    "radius1 = input()\n",
    "\n",
    "area = float(radius1) * float(radius1) * 3.14159\n",
    "print(\"Circle of radius is: \", area)\n"
   ]
  },
  {
   "cell_type": "code",
   "execution_count": 5,
   "metadata": {},
   "outputs": [
    {
     "name": "stdout",
     "output_type": "stream",
     "text": [
      "Enter your First Name: Fariha\n",
      "Enter your Last Name: KHalid\n",
      "KHalid   Fariha\n"
     ]
    }
   ],
   "source": [
    "First_Name = input(\"Enter your First Name: \")\n",
    "Last_Name = input(\"Enter your Last Name: \")\n",
    "\n",
    "First_Name_L = (len(First_Name))\n",
    "Last_Name_L = (len(Last_Name))\n",
    "\n",
    "print(Last_Name, \" \", First_Name )"
   ]
  },
  {
   "cell_type": "code",
   "execution_count": 6,
   "metadata": {},
   "outputs": [
    {
     "name": "stdout",
     "output_type": "stream",
     "text": [
      "Enter first number: 4\n",
      "ENter Secound number: 5\n",
      "Your answer is:  9\n"
     ]
    }
   ],
   "source": [
    "No1 = input(\"Enter first number: \")\n",
    "No2 = input(\"ENter Secound number: \")\n",
    "\n",
    "No3 = int(No1) + int(No2)\n",
    "\n",
    "print(\"Your answer is: \", No3) "
   ]
  },
  {
   "cell_type": "code",
   "execution_count": null,
   "metadata": {},
   "outputs": [],
   "source": []
  }
 ],
 "metadata": {
  "kernelspec": {
   "display_name": "Python 3",
   "language": "python",
   "name": "python3"
  },
  "language_info": {
   "codemirror_mode": {
    "name": "ipython",
    "version": 3
   },
   "file_extension": ".py",
   "mimetype": "text/x-python",
   "name": "python",
   "nbconvert_exporter": "python",
   "pygments_lexer": "ipython3",
   "version": "3.6.8"
  }
 },
 "nbformat": 4,
 "nbformat_minor": 2
}
