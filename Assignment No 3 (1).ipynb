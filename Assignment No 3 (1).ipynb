{
 "cells": [
  {
   "cell_type": "code",
   "execution_count": 19,
   "metadata": {},
   "outputs": [
    {
     "name": "stdout",
     "output_type": "stream",
     "text": [
      "Enter Value 2\n",
      "Enter Value 3\n",
      "Choose the operator from the following options: \n",
      " 1. Addition + \n",
      " 2. Subtraction \n",
      " 3. Multiplication * \n",
      " 4. Division / \n",
      " 5. Power **\n",
      "Operator: **\n",
      "Answer is:  8\n"
     ]
    }
   ],
   "source": [
    "Value1 = input (\"Enter Value \")\n",
    "Value2 = input (\"Enter Value \")\n",
    "print(\"Choose the operator from the following options: \\n 1. Addition + \\n 2. Subtraction \\n 3. Multiplication * \\n 4. Division / \\n 5. Power **\")\n",
    "Operator = input(\"Operator: \")\n",
    "\n",
    "if Value1.isdigit() and Value2.isdigit():\n",
    "    if Operator == \"+\":\n",
    "        Value = int(Value1) + int(Value2)\n",
    "        print(\"Answer is: \", Value)\n",
    "        \n",
    "    elif Operator == \"-\":\n",
    "        Value = int(Value1) - int(Value2)\n",
    "        print(\"Answer is: \", Value)\n",
    "        \n",
    "    elif Operator == \"*\":\n",
    "        Value = int(Value1) * int(Value2)\n",
    "        print(\"Answer is: \", Value)\n",
    "        \n",
    "    elif Operator == \"/\":\n",
    "        Value = int(Value1) / int(Value2)\n",
    "        print(\"Answer is: \", Value)\n",
    "    \n",
    "    elif Operator == \"**\":\n",
    "        Value = int(Value1) ** int(Value2)\n",
    "        print(\"Answer is: \", Value)\n",
    "    \n",
    "    else:\n",
    "        print (\"Please choose correct operator\")\n",
    "else:\n",
    "    print(\"Values should be Number\")"
   ]
  },
  {
   "cell_type": "code",
   "execution_count": 8,
   "metadata": {},
   "outputs": [
    {
     "name": "stdout",
     "output_type": "stream",
     "text": [
      "Numbers in the list are:  [12, 13]\n"
     ]
    }
   ],
   "source": [
    "List1 = [\"Fariha\", 12 , \"Try\", \"Numeric\", 13]\n",
    "Num=[]\n",
    "String1=[]\n",
    "for L in range(0, len(List1)):\n",
    "    if str(List1[L]).isdigit():\n",
    "        Num.append(List1[L])\n",
    "    else:\n",
    "       String1.append(List1[L])\n",
    "print(\"Numbers in the list are: \", Num)\n"
   ]
  },
  {
   "cell_type": "code",
   "execution_count": 9,
   "metadata": {},
   "outputs": [
    {
     "name": "stdout",
     "output_type": "stream",
     "text": [
      "{0: 1, 1: 2, 2: 3, 3: 4, 4: 5, 5: 6}\n"
     ]
    }
   ],
   "source": [
    "Dictionary1 = {0:1, 1:2, 2:3, 3:4}\n",
    "Dictionary1.update({4:5, 5:6})\n",
    "print(Dictionary1)"
   ]
  },
  {
   "cell_type": "code",
   "execution_count": 20,
   "metadata": {},
   "outputs": [
    {
     "name": "stdout",
     "output_type": "stream",
     "text": [
      "10\n"
     ]
    }
   ],
   "source": [
    "Dictionary1 = {0:1, 1:2, 2:3, 3:4}\n",
    "Sum = 0\n",
    "print(sum(Dictionary1.values()))"
   ]
  },
  {
   "cell_type": "code",
   "execution_count": 41,
   "metadata": {},
   "outputs": [
    {
     "name": "stdout",
     "output_type": "stream",
     "text": [
      "Name\n"
     ]
    }
   ],
   "source": [
    "list = [\"Name\", \"Alishba\", \"Hina\", \"Name\"]\n",
    "list.sort()\n",
    "for i in range(len (list) -1):\n",
    "     if list[i] == list[i+1]:\n",
    "        print (list[i])"
   ]
  },
  {
   "cell_type": "code",
   "execution_count": 59,
   "metadata": {},
   "outputs": [
    {
     "name": "stdout",
     "output_type": "stream",
     "text": [
      "Enter key to search: 4\n",
      "Key is present\n"
     ]
    }
   ],
   "source": [
    "Dictionary1 = {1: 100 , 2: 200, 3: 300, 4: 400, 5: 500, 6: 600}\n",
    "\n",
    "Key = int(input(\"Enter key to search: \"))\n",
    "\n",
    "if (Key in Dictionary1):\n",
    "    print(\"Key is present\")\n",
    "else:\n",
    "    print(\"Key is not present\")"
   ]
  },
  {
   "cell_type": "code",
   "execution_count": null,
   "metadata": {},
   "outputs": [],
   "source": []
  }
 ],
 "metadata": {
  "kernelspec": {
   "display_name": "Python 3",
   "language": "python",
   "name": "python3"
  },
  "language_info": {
   "codemirror_mode": {
    "name": "ipython",
    "version": 3
   },
   "file_extension": ".py",
   "mimetype": "text/x-python",
   "name": "python",
   "nbconvert_exporter": "python",
   "pygments_lexer": "ipython3",
   "version": "3.6.8"
  }
 },
 "nbformat": 4,
 "nbformat_minor": 2
}
