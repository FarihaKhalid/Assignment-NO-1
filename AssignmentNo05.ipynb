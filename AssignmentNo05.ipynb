{
 "cells": [
  {
   "cell_type": "code",
   "execution_count": null,
   "metadata": {},
   "outputs": [],
   "source": [
    "def function1(n):\n",
    "    result = 1\n",
    "    i = 1\n",
    "    if (n > 1):\n",
    "        while(i <= n):\n",
    "            result = result * i\n",
    "            i = i + 1\n",
    "        print(\"Factorial of \", n, \"is \", result)\n",
    "    elif (n == 1):\n",
    "        print(\"Factorial of 1 is 1\")\n",
    "    else:\n",
    "        print(\"For Factorial give positive no or no greater than 0\")\n",
    "\n",
    "        \n",
    "func = int(input(\"Enter Num to find Factorial \"))\n",
    "function1(func)\n",
    "            "
   ]
  },
  {
   "cell_type": "code",
   "execution_count": 28,
   "metadata": {},
   "outputs": [
    {
     "name": "stdout",
     "output_type": "stream",
     "text": [
      "Enter string Fariha\n",
      "Uppercase letters in string are  1 lowercase letters in string are  5\n"
     ]
    }
   ],
   "source": [
    "def func_str(st):\n",
    "    Uppercase_no = 0\n",
    "    lowercase_no = 0\n",
    "    \n",
    "    for letter in st:\n",
    "        if(letter.isupper()):\n",
    "            Uppercase_no = Uppercase_no + 1\n",
    "        else:\n",
    "            lowercase_no = lowercase_no + 1\n",
    "    print(\"Uppercase letters in string are \",Uppercase_no, \"lowercase letters in string are \", lowercase_no)\n",
    "            \n",
    "\n",
    "string_input = input (\"Enter string \")\n",
    "func_str(string_input)\n",
    "            \n"
   ]
  },
  {
   "cell_type": "code",
   "execution_count": 35,
   "metadata": {},
   "outputs": [
    {
     "name": "stdout",
     "output_type": "stream",
     "text": [
      "Enter number234\n",
      "2\n",
      "4\n"
     ]
    }
   ],
   "source": [
    "def func_even(n):\n",
    "    for no in n:\n",
    "        result = int(no) % 2\n",
    "        if(result == 0):\n",
    "            print(no)\n",
    "\n",
    "no_input = input(\"Enter number\")\n",
    "func_even(no_input)"
   ]
  },
  {
   "cell_type": "code",
   "execution_count": 38,
   "metadata": {},
   "outputs": [
    {
     "name": "stdout",
     "output_type": "stream",
     "text": [
      "Enter your string: madam\n",
      "This word is palindrome\n"
     ]
    }
   ],
   "source": [
    "def func_palindrome(st):\n",
    "    sec_st = \"\"\n",
    "    for letter in st:\n",
    "        sec_st = letter + sec_st\n",
    "    if (st==sec_st): \n",
    "        print(\"This word is palindrome\")\n",
    "    else:\n",
    "        prin(\"This word is not palindrome\")\n",
    "\n",
    "str_input = input(\"Enter your string: \")\n",
    "func_palindrome(str_input)\n",
    "        "
   ]
  },
  {
   "cell_type": "code",
   "execution_count": 32,
   "metadata": {},
   "outputs": [
    {
     "name": "stdout",
     "output_type": "stream",
     "text": [
      "Enter no 3\n",
      "3 is a prime number\n"
     ]
    }
   ],
   "source": [
    "def prime_func(n):\n",
    "    if num == 2:\n",
    "        print(num,\" is a Prime no\")\n",
    "    elif num > 2:\n",
    "        for i in range(2,num):\n",
    "            if (num % i) == 0:\n",
    "                print(num,\"is not a prime number\")\n",
    "                break\n",
    "            else:\n",
    "                print(num,\"is a prime number\")\n",
    "    else:\n",
    "        print(num,\"is not a prime number\")\n",
    "    \n",
    "num = int(input(\"Enter no \"))\n",
    "prime_func(num)\n",
    "\n"
   ]
  },
  {
   "cell_type": "code",
   "execution_count": 6,
   "metadata": {},
   "outputs": [
    {
     "name": "stdout",
     "output_type": "stream",
     "text": [
      "Enter shopping items:shoes, Bags, Fruits, Clothes, Books\n",
      "items in shopping list are  shoes, Bags, Fruits, Clothes, Books\n"
     ]
    }
   ],
   "source": [
    "def func_list(*items):\n",
    "    for item in items:\n",
    "        print(\"items in shopping list are \", item)\n",
    "\n",
    "shoppinglist = input(\"Enter shopping items:\")\n",
    "func_list(shoppinglist)"
   ]
  }
 ],
 "metadata": {
  "kernelspec": {
   "display_name": "Python 3",
   "language": "python",
   "name": "python3"
  },
  "language_info": {
   "codemirror_mode": {
    "name": "ipython",
    "version": 3
   },
   "file_extension": ".py",
   "mimetype": "text/x-python",
   "name": "python",
   "nbconvert_exporter": "python",
   "pygments_lexer": "ipython3",
   "version": "3.6.8"
  }
 },
 "nbformat": 4,
 "nbformat_minor": 2
}
